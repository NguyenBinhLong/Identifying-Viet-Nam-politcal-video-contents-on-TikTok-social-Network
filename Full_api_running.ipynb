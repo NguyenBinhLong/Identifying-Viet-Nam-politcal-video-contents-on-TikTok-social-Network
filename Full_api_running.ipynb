{
 "cells": [
  {
   "cell_type": "markdown",
   "id": "7dfe68f1",
   "metadata": {},
   "source": [
    "# Fusion prediction"
   ]
  },
  {
   "cell_type": "markdown",
   "id": "40bca577",
   "metadata": {},
   "source": [
    "Require:\n",
    "- class_text_classifier.py\n",
    "- class_image_classify_model.py\n",
    "- class_face_reg.py\n",
    "- fusion_classify_model.py\n",
    "- face_embedding/\n",
    "- model/fusion_clf_lgbm\n",
    "- model/image_clf.h5\n",
    "- model/text_clf\n",
    "- model/tfidfVectorizer"
   ]
  },
  {
   "cell_type": "code",
   "execution_count": 1,
   "id": "42d6f730",
   "metadata": {},
   "outputs": [
    {
     "name": "stdout",
     "output_type": "stream",
     "text": [
      "Version 1.2\n",
      "Device mapping:\n",
      "/job:localhost/replica:0/task:0/device:XLA_CPU:0 -> device: XLA_CPU device\n",
      "\n",
      "WARNING:tensorflow:From /Users/macintoshhd/Documents/Master/LV/LuanVan/CODE/Face_reg_Text_clf/class_image_classify_model.py:32: The name tf.keras.backend.set_session is deprecated. Please use tf.compat.v1.keras.backend.set_session instead.\n",
      "\n"
     ]
    },
    {
     "name": "stderr",
     "output_type": "stream",
     "text": [
      "2022-06-27 23:48:20.602394: I tensorflow/core/platform/cpu_feature_guard.cc:143] Your CPU supports instructions that this TensorFlow binary was not compiled to use: AVX2 FMA\n",
      "2022-06-27 23:48:20.626788: I tensorflow/compiler/xla/service/service.cc:168] XLA service 0x7ff490864350 initialized for platform Host (this does not guarantee that XLA will be used). Devices:\n",
      "2022-06-27 23:48:20.626803: I tensorflow/compiler/xla/service/service.cc:176]   StreamExecutor device (0): Host, Default Version\n"
     ]
    }
   ],
   "source": [
    "from class_text_classifier import *\n",
    "from class_image_classify_model import *\n",
    "from class_face_reg import *\n",
    "from fusion_classify_model import *"
   ]
  },
  {
   "cell_type": "code",
   "execution_count": 2,
   "id": "33acce50",
   "metadata": {},
   "outputs": [
    {
     "name": "stderr",
     "output_type": "stream",
     "text": [
      "/Users/macintoshhd/opt/anaconda3/envs/python38/lib/python3.8/site-packages/sklearn/base.py:310: UserWarning: Trying to unpickle estimator TfidfTransformer from version 1.1.1 when using version 0.24.2. This might lead to breaking code or invalid results. Use at your own risk.\n",
      "  warnings.warn(\n",
      "/Users/macintoshhd/opt/anaconda3/envs/python38/lib/python3.8/site-packages/sklearn/base.py:310: UserWarning: Trying to unpickle estimator TfidfVectorizer from version 1.1.1 when using version 0.24.2. This might lead to breaking code or invalid results. Use at your own risk.\n",
      "  warnings.warn(\n",
      "/Users/macintoshhd/opt/anaconda3/envs/python38/lib/python3.8/site-packages/sklearn/base.py:310: UserWarning: Trying to unpickle estimator LogisticRegression from version 1.1.1 when using version 0.24.2. This might lead to breaking code or invalid results. Use at your own risk.\n",
      "  warnings.warn(\n"
     ]
    },
    {
     "name": "stdout",
     "output_type": "stream",
     "text": [
      "===== Load model successful from model/image_clf.h5\n"
     ]
    }
   ],
   "source": [
    "text_clf = Text_CLF.getInstance('model/tfidfVectorizer', 'model/text_clf')\n",
    "image_clf = Image_binary_classify_keras.getInstance()\n",
    "image_clf.init_model('model/image_clf.h5')\n",
    "face_reg = Face_reg.getInstance()\n",
    "fusion_clf = Fusion_CLF.getInstance('model/fusion_clf_lgbm2')"
   ]
  },
  {
   "cell_type": "code",
   "execution_count": 10,
   "id": "c1212f49",
   "metadata": {},
   "outputs": [],
   "source": [
    "text = 'tham quan đất thực tế thuanchubds bấtđộngsản duet learnontiktok trending'\n",
    "frames_folder_path = './6954907710366387458'"
   ]
  },
  {
   "cell_type": "code",
   "execution_count": 11,
   "id": "d6e02dd1",
   "metadata": {},
   "outputs": [
    {
     "name": "stderr",
     "output_type": "stream",
     "text": [
      "100%|██████████| 14/14 [00:00<00:00, 143.64it/s]\n"
     ]
    },
    {
     "name": "stdout",
     "output_type": "stream",
     "text": [
      "1/1 - 0s\n"
     ]
    },
    {
     "name": "stderr",
     "output_type": "stream",
     "text": [
      "/Users/macintoshhd/opt/anaconda3/envs/python38/lib/python3.8/site-packages/torch/nn/functional.py:780: UserWarning: Note that order of the arguments: ceil_mode and return_indices will changeto match the args list in nn.MaxPool2d in a future release.\n",
      "  warnings.warn(\"Note that order of the arguments: ceil_mode and return_indices will change\"\n"
     ]
    }
   ],
   "source": [
    "text_prediction_score = text_clf.predict_score(text)\n",
    "image_prediction_score = image_clf.predict_video_frames(frames_folder_path)\n",
    "face_regconition = face_reg.predict_video_frames(frames_folder_path)"
   ]
  },
  {
   "cell_type": "code",
   "execution_count": 12,
   "id": "f3361332",
   "metadata": {},
   "outputs": [
    {
     "data": {
      "text/plain": [
       "0.05631903672072428"
      ]
     },
     "execution_count": 12,
     "metadata": {},
     "output_type": "execute_result"
    }
   ],
   "source": [
    "text_prediction_score"
   ]
  },
  {
   "cell_type": "code",
   "execution_count": 13,
   "id": "73e5b8fc",
   "metadata": {},
   "outputs": [
    {
     "data": {
      "text/plain": [
       "0.49516037"
      ]
     },
     "execution_count": 13,
     "metadata": {},
     "output_type": "execute_result"
    }
   ],
   "source": [
    "image_prediction_score"
   ]
  },
  {
   "cell_type": "code",
   "execution_count": 14,
   "id": "501267db",
   "metadata": {},
   "outputs": [
    {
     "data": {
      "text/plain": [
       "1"
      ]
     },
     "execution_count": 14,
     "metadata": {},
     "output_type": "execute_result"
    }
   ],
   "source": [
    "face_regconition"
   ]
  },
  {
   "cell_type": "code",
   "execution_count": 15,
   "id": "16e34fd0",
   "metadata": {},
   "outputs": [
    {
     "data": {
      "text/plain": [
       "0.04045920760390369"
      ]
     },
     "execution_count": 15,
     "metadata": {},
     "output_type": "execute_result"
    }
   ],
   "source": [
    "fusion_clf.predict_score(text_prediction_score, image_prediction_score, face_regconition)"
   ]
  },
  {
   "cell_type": "code",
   "execution_count": null,
   "id": "2b69a550",
   "metadata": {},
   "outputs": [],
   "source": []
  }
 ],
 "metadata": {
  "kernelspec": {
   "display_name": "Python 3 (ipykernel)",
   "language": "python",
   "name": "python3"
  },
  "language_info": {
   "codemirror_mode": {
    "name": "ipython",
    "version": 3
   },
   "file_extension": ".py",
   "mimetype": "text/x-python",
   "name": "python",
   "nbconvert_exporter": "python",
   "pygments_lexer": "ipython3",
   "version": "3.8.13"
  }
 },
 "nbformat": 4,
 "nbformat_minor": 5
}