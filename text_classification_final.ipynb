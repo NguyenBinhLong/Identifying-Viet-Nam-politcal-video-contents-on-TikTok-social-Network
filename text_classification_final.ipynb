{
 "cells": [
  {
   "cell_type": "code",
   "execution_count": 7,
   "id": "cd931c7f",
   "metadata": {},
   "outputs": [],
   "source": [
    "import warnings\n",
    "warnings.filterwarnings('ignore')\n",
    "import pandas as pd\n",
    "import numpy as np\n",
    "import pickle"
   ]
  },
  {
   "cell_type": "code",
   "execution_count": 8,
   "id": "15af4a76",
   "metadata": {},
   "outputs": [],
   "source": [
    "def write_pickle(object, file_name):\n",
    "    with open(file_name, \"wb\") as handle:\n",
    "        pickle.dump(object, handle, protocol=pickle.HIGHEST_PROTOCOL)\n",
    "\n",
    "def read_pickle(path):\n",
    "    with open(path, 'rb') as handle:\n",
    "        return pickle.load(handle)"
   ]
  },
  {
   "cell_type": "markdown",
   "id": "de9d56a2",
   "metadata": {},
   "source": [
    "# Load raw data"
   ]
  },
  {
   "cell_type": "code",
   "execution_count": 9,
   "id": "7b335d95",
   "metadata": {
    "scrolled": true
   },
   "outputs": [],
   "source": [
    "df_web = pd.read_csv('text_website.csv', header=None).rename(columns={0: \"label\", 1: \"text\"})\n",
    "df_tiktok = pd.read_csv('text_tiktok.csv', header=None).rename(columns={0: \"label\", 1: \"text\"})"
   ]
  },
  {
   "cell_type": "code",
   "execution_count": 140,
   "id": "d16e4441",
   "metadata": {},
   "outputs": [
    {
     "data": {
      "text/html": [
       "<div>\n",
       "<style scoped>\n",
       "    .dataframe tbody tr th:only-of-type {\n",
       "        vertical-align: middle;\n",
       "    }\n",
       "\n",
       "    .dataframe tbody tr th {\n",
       "        vertical-align: top;\n",
       "    }\n",
       "\n",
       "    .dataframe thead th {\n",
       "        text-align: right;\n",
       "    }\n",
       "</style>\n",
       "<table border=\"1\" class=\"dataframe\">\n",
       "  <thead>\n",
       "    <tr style=\"text-align: right;\">\n",
       "      <th></th>\n",
       "      <th>label</th>\n",
       "      <th>text</th>\n",
       "    </tr>\n",
       "  </thead>\n",
       "  <tbody>\n",
       "    <tr>\n",
       "      <th>0</th>\n",
       "      <td>1</td>\n",
       "      <td>Với quyết định trên Hà Nội là địa phương đầu t...</td>\n",
       "    </tr>\n",
       "    <tr>\n",
       "      <th>1</th>\n",
       "      <td>1</td>\n",
       "      <td>Sáng 254 Ủy ban Thường vụ Quốc hội cho ý kiến ...</td>\n",
       "    </tr>\n",
       "    <tr>\n",
       "      <th>2</th>\n",
       "      <td>1</td>\n",
       "      <td>Theo thông cáo chiều 214 tại kỳ họp thứ 14 192...</td>\n",
       "    </tr>\n",
       "    <tr>\n",
       "      <th>3</th>\n",
       "      <td>1</td>\n",
       "      <td>Thường trực Ban Bí thư Võ Văn Thưởng vừa ký kế...</td>\n",
       "    </tr>\n",
       "    <tr>\n",
       "      <th>4</th>\n",
       "      <td>1</td>\n",
       "      <td>Theo thông cáo của Văn phòng Trung ương Đảng c...</td>\n",
       "    </tr>\n",
       "  </tbody>\n",
       "</table>\n",
       "</div>"
      ],
      "text/plain": [
       "   label                                               text\n",
       "0      1  Với quyết định trên Hà Nội là địa phương đầu t...\n",
       "1      1  Sáng 254 Ủy ban Thường vụ Quốc hội cho ý kiến ...\n",
       "2      1  Theo thông cáo chiều 214 tại kỳ họp thứ 14 192...\n",
       "3      1  Thường trực Ban Bí thư Võ Văn Thưởng vừa ký kế...\n",
       "4      1  Theo thông cáo của Văn phòng Trung ương Đảng c..."
      ]
     },
     "execution_count": 140,
     "metadata": {},
     "output_type": "execute_result"
    }
   ],
   "source": [
    "df_web.head()"
   ]
  },
  {
   "cell_type": "code",
   "execution_count": 141,
   "id": "a8eeeaff",
   "metadata": {},
   "outputs": [
    {
     "data": {
      "text/html": [
       "<div>\n",
       "<style scoped>\n",
       "    .dataframe tbody tr th:only-of-type {\n",
       "        vertical-align: middle;\n",
       "    }\n",
       "\n",
       "    .dataframe tbody tr th {\n",
       "        vertical-align: top;\n",
       "    }\n",
       "\n",
       "    .dataframe thead th {\n",
       "        text-align: right;\n",
       "    }\n",
       "</style>\n",
       "<table border=\"1\" class=\"dataframe\">\n",
       "  <thead>\n",
       "    <tr style=\"text-align: right;\">\n",
       "      <th></th>\n",
       "      <th>label</th>\n",
       "      <th>text</th>\n",
       "    </tr>\n",
       "  </thead>\n",
       "  <tbody>\n",
       "    <tr>\n",
       "      <th>0</th>\n",
       "      <td>1</td>\n",
       "      <td>12 luật cấm kỳ lạ ở Triều Tiên khiến cả thế g...</td>\n",
       "    </tr>\n",
       "    <tr>\n",
       "      <th>1</th>\n",
       "      <td>1</td>\n",
       "      <td>Việt Nam ơi giống vùng kín Ngàn Năm lưu dành ...</td>\n",
       "    </tr>\n",
       "    <tr>\n",
       "      <th>2</th>\n",
       "      <td>1</td>\n",
       "      <td>dưới cờ đỏ sao vàng thiêng liêng của tổ quốc ...</td>\n",
       "    </tr>\n",
       "    <tr>\n",
       "      <th>3</th>\n",
       "      <td>1</td>\n",
       "      <td>quốc gia nào trong khu vực Đông Nam Á được th...</td>\n",
       "    </tr>\n",
       "    <tr>\n",
       "      <th>4</th>\n",
       "      <td>1</td>\n",
       "      <td>không là người yêu cũ của ai cả Bởi vì nếu nh...</td>\n",
       "    </tr>\n",
       "  </tbody>\n",
       "</table>\n",
       "</div>"
      ],
      "text/plain": [
       "   label                                               text\n",
       "0      1   12 luật cấm kỳ lạ ở Triều Tiên khiến cả thế g...\n",
       "1      1   Việt Nam ơi giống vùng kín Ngàn Năm lưu dành ...\n",
       "2      1   dưới cờ đỏ sao vàng thiêng liêng của tổ quốc ...\n",
       "3      1   quốc gia nào trong khu vực Đông Nam Á được th...\n",
       "4      1   không là người yêu cũ của ai cả Bởi vì nếu nh..."
      ]
     },
     "execution_count": 141,
     "metadata": {},
     "output_type": "execute_result"
    }
   ],
   "source": [
    "df_tiktok.head()"
   ]
  },
  {
   "cell_type": "markdown",
   "id": "c7e4ef94",
   "metadata": {},
   "source": [
    "# Preprocessing"
   ]
  },
  {
   "cell_type": "code",
   "execution_count": 12,
   "id": "05de5fe9",
   "metadata": {},
   "outputs": [],
   "source": [
    "import re\n",
    "from underthesea import word_tokenize\n",
    "# vncorenlp\n",
    "# from pyvi import ViTokenizer\n",
    "\n",
    "def is_number(text):\n",
    "    try:\n",
    "        float(text)\n",
    "        return True\n",
    "    except ValueError:\n",
    "        return False\n",
    "\n",
    "def preprocess_text(text):    \n",
    "    text = re.sub(r'<[^>]*>', '', text)\n",
    "    text = text.lower()\n",
    "    text = word_tokenize(text, format=\"text\")\n",
    "    text = re.sub(r'[^\\s\\wáàảãạăắằẳẵặâấầẩẫậéèẻẽẹêếềểễệóòỏõọôốồổỗộơớờởỡợíìỉĩịúùủũụưứừửữựýỳỷỹỵđ_\\[\\]]',' ', text)\n",
    "    text = re.sub(r'\\s+', ' ', text).strip()\n",
    "    text = ' '.join(map(lambda x: '<number>' if is_number(x) else x, text.split()))\n",
    "    return text"
   ]
  },
  {
   "cell_type": "markdown",
   "id": "70cda03a-4554-4fd8-bbaa-62f324077549",
   "metadata": {},
   "source": [
    "## processing data web & tiktok"
   ]
  },
  {
   "cell_type": "code",
   "execution_count": 11,
   "id": "9cd1c14a",
   "metadata": {},
   "outputs": [
    {
     "ename": "KeyboardInterrupt",
     "evalue": "",
     "output_type": "error",
     "traceback": [
      "\u001B[0;31m---------------------------------------------------------------------------\u001B[0m",
      "\u001B[0;31mKeyboardInterrupt\u001B[0m                         Traceback (most recent call last)",
      "Input \u001B[0;32mIn [11]\u001B[0m, in \u001B[0;36m<cell line: 1>\u001B[0;34m()\u001B[0m\n\u001B[0;32m----> 1\u001B[0m df_web[\u001B[38;5;124m'\u001B[39m\u001B[38;5;124mpreprocessed_text\u001B[39m\u001B[38;5;124m'\u001B[39m] \u001B[38;5;241m=\u001B[39m \u001B[43mdf_web\u001B[49m\u001B[43m[\u001B[49m\u001B[38;5;124;43m'\u001B[39;49m\u001B[38;5;124;43mtext\u001B[39;49m\u001B[38;5;124;43m'\u001B[39;49m\u001B[43m]\u001B[49m\u001B[38;5;241;43m.\u001B[39;49m\u001B[43mapply\u001B[49m\u001B[43m(\u001B[49m\u001B[43mpreprocess_text\u001B[49m\u001B[43m)\u001B[49m\n\u001B[1;32m      2\u001B[0m df_tiktok[\u001B[38;5;124m'\u001B[39m\u001B[38;5;124mpreprocessed_text\u001B[39m\u001B[38;5;124m'\u001B[39m] \u001B[38;5;241m=\u001B[39m df_tiktok[\u001B[38;5;124m'\u001B[39m\u001B[38;5;124mtext\u001B[39m\u001B[38;5;124m'\u001B[39m]\u001B[38;5;241m.\u001B[39mapply(preprocess_text)\n",
      "File \u001B[0;32m~/Desktop/CODE/Face_reg_Text_clf/venv/lib/python3.8/site-packages/pandas/core/series.py:4433\u001B[0m, in \u001B[0;36mSeries.apply\u001B[0;34m(self, func, convert_dtype, args, **kwargs)\u001B[0m\n\u001B[1;32m   4323\u001B[0m \u001B[38;5;28;01mdef\u001B[39;00m \u001B[38;5;21mapply\u001B[39m(\n\u001B[1;32m   4324\u001B[0m     \u001B[38;5;28mself\u001B[39m,\n\u001B[1;32m   4325\u001B[0m     func: AggFuncType,\n\u001B[0;32m   (...)\u001B[0m\n\u001B[1;32m   4328\u001B[0m     \u001B[38;5;241m*\u001B[39m\u001B[38;5;241m*\u001B[39mkwargs,\n\u001B[1;32m   4329\u001B[0m ) \u001B[38;5;241m-\u001B[39m\u001B[38;5;241m>\u001B[39m DataFrame \u001B[38;5;241m|\u001B[39m Series:\n\u001B[1;32m   4330\u001B[0m     \u001B[38;5;124;03m\"\"\"\u001B[39;00m\n\u001B[1;32m   4331\u001B[0m \u001B[38;5;124;03m    Invoke function on values of Series.\u001B[39;00m\n\u001B[1;32m   4332\u001B[0m \n\u001B[0;32m   (...)\u001B[0m\n\u001B[1;32m   4431\u001B[0m \u001B[38;5;124;03m    dtype: float64\u001B[39;00m\n\u001B[1;32m   4432\u001B[0m \u001B[38;5;124;03m    \"\"\"\u001B[39;00m\n\u001B[0;32m-> 4433\u001B[0m     \u001B[38;5;28;01mreturn\u001B[39;00m \u001B[43mSeriesApply\u001B[49m\u001B[43m(\u001B[49m\u001B[38;5;28;43mself\u001B[39;49m\u001B[43m,\u001B[49m\u001B[43m \u001B[49m\u001B[43mfunc\u001B[49m\u001B[43m,\u001B[49m\u001B[43m \u001B[49m\u001B[43mconvert_dtype\u001B[49m\u001B[43m,\u001B[49m\u001B[43m \u001B[49m\u001B[43margs\u001B[49m\u001B[43m,\u001B[49m\u001B[43m \u001B[49m\u001B[43mkwargs\u001B[49m\u001B[43m)\u001B[49m\u001B[38;5;241;43m.\u001B[39;49m\u001B[43mapply\u001B[49m\u001B[43m(\u001B[49m\u001B[43m)\u001B[49m\n",
      "File \u001B[0;32m~/Desktop/CODE/Face_reg_Text_clf/venv/lib/python3.8/site-packages/pandas/core/apply.py:1082\u001B[0m, in \u001B[0;36mSeriesApply.apply\u001B[0;34m(self)\u001B[0m\n\u001B[1;32m   1078\u001B[0m \u001B[38;5;28;01mif\u001B[39;00m \u001B[38;5;28misinstance\u001B[39m(\u001B[38;5;28mself\u001B[39m\u001B[38;5;241m.\u001B[39mf, \u001B[38;5;28mstr\u001B[39m):\n\u001B[1;32m   1079\u001B[0m     \u001B[38;5;66;03m# if we are a string, try to dispatch\u001B[39;00m\n\u001B[1;32m   1080\u001B[0m     \u001B[38;5;28;01mreturn\u001B[39;00m \u001B[38;5;28mself\u001B[39m\u001B[38;5;241m.\u001B[39mapply_str()\n\u001B[0;32m-> 1082\u001B[0m \u001B[38;5;28;01mreturn\u001B[39;00m \u001B[38;5;28;43mself\u001B[39;49m\u001B[38;5;241;43m.\u001B[39;49m\u001B[43mapply_standard\u001B[49m\u001B[43m(\u001B[49m\u001B[43m)\u001B[49m\n",
      "File \u001B[0;32m~/Desktop/CODE/Face_reg_Text_clf/venv/lib/python3.8/site-packages/pandas/core/apply.py:1137\u001B[0m, in \u001B[0;36mSeriesApply.apply_standard\u001B[0;34m(self)\u001B[0m\n\u001B[1;32m   1131\u001B[0m         values \u001B[38;5;241m=\u001B[39m obj\u001B[38;5;241m.\u001B[39mastype(\u001B[38;5;28mobject\u001B[39m)\u001B[38;5;241m.\u001B[39m_values\n\u001B[1;32m   1132\u001B[0m         \u001B[38;5;66;03m# error: Argument 2 to \"map_infer\" has incompatible type\u001B[39;00m\n\u001B[1;32m   1133\u001B[0m         \u001B[38;5;66;03m# \"Union[Callable[..., Any], str, List[Union[Callable[..., Any], str]],\u001B[39;00m\n\u001B[1;32m   1134\u001B[0m         \u001B[38;5;66;03m# Dict[Hashable, Union[Union[Callable[..., Any], str],\u001B[39;00m\n\u001B[1;32m   1135\u001B[0m         \u001B[38;5;66;03m# List[Union[Callable[..., Any], str]]]]]\"; expected\u001B[39;00m\n\u001B[1;32m   1136\u001B[0m         \u001B[38;5;66;03m# \"Callable[[Any], Any]\"\u001B[39;00m\n\u001B[0;32m-> 1137\u001B[0m         mapped \u001B[38;5;241m=\u001B[39m \u001B[43mlib\u001B[49m\u001B[38;5;241;43m.\u001B[39;49m\u001B[43mmap_infer\u001B[49m\u001B[43m(\u001B[49m\n\u001B[1;32m   1138\u001B[0m \u001B[43m            \u001B[49m\u001B[43mvalues\u001B[49m\u001B[43m,\u001B[49m\n\u001B[1;32m   1139\u001B[0m \u001B[43m            \u001B[49m\u001B[43mf\u001B[49m\u001B[43m,\u001B[49m\u001B[43m  \u001B[49m\u001B[38;5;66;43;03m# type: ignore[arg-type]\u001B[39;49;00m\n\u001B[1;32m   1140\u001B[0m \u001B[43m            \u001B[49m\u001B[43mconvert\u001B[49m\u001B[38;5;241;43m=\u001B[39;49m\u001B[38;5;28;43mself\u001B[39;49m\u001B[38;5;241;43m.\u001B[39;49m\u001B[43mconvert_dtype\u001B[49m\u001B[43m,\u001B[49m\n\u001B[1;32m   1141\u001B[0m \u001B[43m        \u001B[49m\u001B[43m)\u001B[49m\n\u001B[1;32m   1143\u001B[0m \u001B[38;5;28;01mif\u001B[39;00m \u001B[38;5;28mlen\u001B[39m(mapped) \u001B[38;5;129;01mand\u001B[39;00m \u001B[38;5;28misinstance\u001B[39m(mapped[\u001B[38;5;241m0\u001B[39m], ABCSeries):\n\u001B[1;32m   1144\u001B[0m     \u001B[38;5;66;03m# GH#43986 Need to do list(mapped) in order to get treated as nested\u001B[39;00m\n\u001B[1;32m   1145\u001B[0m     \u001B[38;5;66;03m#  See also GH#25959 regarding EA support\u001B[39;00m\n\u001B[1;32m   1146\u001B[0m     \u001B[38;5;28;01mreturn\u001B[39;00m obj\u001B[38;5;241m.\u001B[39m_constructor_expanddim(\u001B[38;5;28mlist\u001B[39m(mapped), index\u001B[38;5;241m=\u001B[39mobj\u001B[38;5;241m.\u001B[39mindex)\n",
      "File \u001B[0;32mpandas/_libs/lib.pyx:2870\u001B[0m, in \u001B[0;36mpandas._libs.lib.map_infer\u001B[0;34m()\u001B[0m\n",
      "Input \u001B[0;32mIn [10]\u001B[0m, in \u001B[0;36mpreprocess_text\u001B[0;34m(text)\u001B[0m\n\u001B[1;32m     14\u001B[0m text \u001B[38;5;241m=\u001B[39m re\u001B[38;5;241m.\u001B[39msub(\u001B[38;5;124mr\u001B[39m\u001B[38;5;124m'\u001B[39m\u001B[38;5;124m<[^>]*>\u001B[39m\u001B[38;5;124m'\u001B[39m, \u001B[38;5;124m'\u001B[39m\u001B[38;5;124m'\u001B[39m, text)\n\u001B[1;32m     15\u001B[0m text \u001B[38;5;241m=\u001B[39m text\u001B[38;5;241m.\u001B[39mlower()\n\u001B[0;32m---> 16\u001B[0m text \u001B[38;5;241m=\u001B[39m \u001B[43mword_tokenize\u001B[49m\u001B[43m(\u001B[49m\u001B[43mtext\u001B[49m\u001B[43m,\u001B[49m\u001B[43m \u001B[49m\u001B[38;5;28;43mformat\u001B[39;49m\u001B[38;5;241;43m=\u001B[39;49m\u001B[38;5;124;43m\"\u001B[39;49m\u001B[38;5;124;43mtext\u001B[39;49m\u001B[38;5;124;43m\"\u001B[39;49m\u001B[43m)\u001B[49m\n\u001B[1;32m     17\u001B[0m text \u001B[38;5;241m=\u001B[39m re\u001B[38;5;241m.\u001B[39msub(\u001B[38;5;124mr\u001B[39m\u001B[38;5;124m'\u001B[39m\u001B[38;5;124m[^\u001B[39m\u001B[38;5;124m\\\u001B[39m\u001B[38;5;124ms\u001B[39m\u001B[38;5;124m\\\u001B[39m\u001B[38;5;124mwáàảãạăắằẳẵặâấầẩẫậéèẻẽẹêếềểễệóòỏõọôốồổỗộơớờởỡợíìỉĩịúùủũụưứừửữựýỳỷỹỵđ_\u001B[39m\u001B[38;5;124m\\\u001B[39m\u001B[38;5;124m[\u001B[39m\u001B[38;5;124m\\\u001B[39m\u001B[38;5;124m]]\u001B[39m\u001B[38;5;124m'\u001B[39m,\u001B[38;5;124m'\u001B[39m\u001B[38;5;124m \u001B[39m\u001B[38;5;124m'\u001B[39m, text)\n\u001B[1;32m     18\u001B[0m text \u001B[38;5;241m=\u001B[39m re\u001B[38;5;241m.\u001B[39msub(\u001B[38;5;124mr\u001B[39m\u001B[38;5;124m'\u001B[39m\u001B[38;5;124m\\\u001B[39m\u001B[38;5;124ms+\u001B[39m\u001B[38;5;124m'\u001B[39m, \u001B[38;5;124m'\u001B[39m\u001B[38;5;124m \u001B[39m\u001B[38;5;124m'\u001B[39m, text)\u001B[38;5;241m.\u001B[39mstrip()\n",
      "File \u001B[0;32m~/Desktop/CODE/Face_reg_Text_clf/venv/lib/python3.8/site-packages/underthesea/pipeline/word_tokenize/__init__.py:36\u001B[0m, in \u001B[0;36mword_tokenize\u001B[0;34m(sentence, format)\u001B[0m\n\u001B[1;32m     34\u001B[0m tokens \u001B[38;5;241m=\u001B[39m tokenize(sentence)\n\u001B[1;32m     35\u001B[0m crf_model \u001B[38;5;241m=\u001B[39m CRFModel\u001B[38;5;241m.\u001B[39minstance()\n\u001B[0;32m---> 36\u001B[0m output \u001B[38;5;241m=\u001B[39m \u001B[43mcrf_model\u001B[49m\u001B[38;5;241;43m.\u001B[39;49m\u001B[43mpredict\u001B[49m\u001B[43m(\u001B[49m\u001B[43mtokens\u001B[49m\u001B[43m,\u001B[49m\u001B[43m \u001B[49m\u001B[38;5;28;43mformat\u001B[39;49m\u001B[43m)\u001B[49m\n\u001B[1;32m     37\u001B[0m tokens \u001B[38;5;241m=\u001B[39m [token[\u001B[38;5;241m0\u001B[39m] \u001B[38;5;28;01mfor\u001B[39;00m token \u001B[38;5;129;01min\u001B[39;00m output]\n\u001B[1;32m     38\u001B[0m tags \u001B[38;5;241m=\u001B[39m [token[\u001B[38;5;241m1\u001B[39m] \u001B[38;5;28;01mfor\u001B[39;00m token \u001B[38;5;129;01min\u001B[39;00m output]\n",
      "File \u001B[0;32m~/Desktop/CODE/Face_reg_Text_clf/venv/lib/python3.8/site-packages/underthesea/pipeline/word_tokenize/model.py:50\u001B[0m, in \u001B[0;36mCRFModel.predict\u001B[0;34m(self, sentence, format)\u001B[0m\n\u001B[1;32m     48\u001B[0m \u001B[38;5;28;01mdef\u001B[39;00m \u001B[38;5;21mpredict\u001B[39m(\u001B[38;5;28mself\u001B[39m, sentence, \u001B[38;5;28mformat\u001B[39m\u001B[38;5;241m=\u001B[39m\u001B[38;5;28;01mNone\u001B[39;00m):\n\u001B[1;32m     49\u001B[0m     tokens \u001B[38;5;241m=\u001B[39m [(token, \u001B[38;5;124m\"\u001B[39m\u001B[38;5;124mX\u001B[39m\u001B[38;5;124m\"\u001B[39m) \u001B[38;5;28;01mfor\u001B[39;00m token \u001B[38;5;129;01min\u001B[39;00m sentence]\n\u001B[0;32m---> 50\u001B[0m     x \u001B[38;5;241m=\u001B[39m \u001B[43mcrf_featurizer\u001B[49m\u001B[38;5;241;43m.\u001B[39;49m\u001B[43mprocess\u001B[49m\u001B[43m(\u001B[49m\u001B[43m[\u001B[49m\u001B[43mtokens\u001B[49m\u001B[43m]\u001B[49m\u001B[43m)\u001B[49m[\u001B[38;5;241m0\u001B[39m]\n\u001B[1;32m     51\u001B[0m     tags \u001B[38;5;241m=\u001B[39m \u001B[38;5;28mself\u001B[39m\u001B[38;5;241m.\u001B[39mestimator\u001B[38;5;241m.\u001B[39mtag(x)\n\u001B[1;32m     52\u001B[0m     \u001B[38;5;28;01mreturn\u001B[39;00m \u001B[38;5;28mlist\u001B[39m(\u001B[38;5;28mzip\u001B[39m(sentence, tags))\n",
      "\u001B[0;31mKeyboardInterrupt\u001B[0m: "
     ]
    }
   ],
   "source": [
    "df_web['preprocessed_text'] = df_web['text'].apply(preprocess_text)\n",
    "df_tiktok['preprocessed_text'] = df_tiktok['text'].apply(preprocess_text)"
   ]
  },
  {
   "cell_type": "code",
   "execution_count": null,
   "id": "00afc275",
   "metadata": {},
   "outputs": [],
   "source": [
    "df_web[['label', 'preprocessed_text']].to_csv('preprocessed_web.csv', index=False)\n",
    "df_tiktok[['label', 'preprocessed_text']].to_csv('preprocessed_tiktok.csv', index=False)"
   ]
  },
  {
   "cell_type": "markdown",
   "id": "94c84310",
   "metadata": {},
   "source": [
    "# Load preprocessed data"
   ]
  },
  {
   "cell_type": "code",
   "execution_count": 13,
   "id": "a9f101e4",
   "metadata": {},
   "outputs": [],
   "source": [
    "df_web = pd.read_csv('preprocessed_web.csv')\n",
    "df_tiktok = pd.read_csv('preprocessed_tiktok.csv')"
   ]
  },
  {
   "cell_type": "code",
   "execution_count": 6,
   "id": "6743a3b5",
   "metadata": {},
   "outputs": [
    {
     "data": {
      "text/html": [
       "<div>\n",
       "<style scoped>\n",
       "    .dataframe tbody tr th:only-of-type {\n",
       "        vertical-align: middle;\n",
       "    }\n",
       "\n",
       "    .dataframe tbody tr th {\n",
       "        vertical-align: top;\n",
       "    }\n",
       "\n",
       "    .dataframe thead th {\n",
       "        text-align: right;\n",
       "    }\n",
       "</style>\n",
       "<table border=\"1\" class=\"dataframe\">\n",
       "  <thead>\n",
       "    <tr style=\"text-align: right;\">\n",
       "      <th></th>\n",
       "      <th>label</th>\n",
       "      <th>preprocessed_text</th>\n",
       "    </tr>\n",
       "  </thead>\n",
       "  <tbody>\n",
       "    <tr>\n",
       "      <th>0</th>\n",
       "      <td>1</td>\n",
       "      <td>với quyết_định trên hà_nội là địa_phương đầu_t...</td>\n",
       "    </tr>\n",
       "    <tr>\n",
       "      <th>1</th>\n",
       "      <td>1</td>\n",
       "      <td>sáng 254_ủy_ban thường_vụ quốc_hội cho ý_kiến ...</td>\n",
       "    </tr>\n",
       "    <tr>\n",
       "      <th>2</th>\n",
       "      <td>1</td>\n",
       "      <td>theo thông_cáo chiều &lt;number&gt; tại kỳ họp thứ &lt;...</td>\n",
       "    </tr>\n",
       "    <tr>\n",
       "      <th>3</th>\n",
       "      <td>1</td>\n",
       "      <td>thường trực_ban bí_thư võ văn thưởng vừa ký_kế...</td>\n",
       "    </tr>\n",
       "    <tr>\n",
       "      <th>4</th>\n",
       "      <td>1</td>\n",
       "      <td>theo thông_cáo của văn_phòng trung_ương đảng c...</td>\n",
       "    </tr>\n",
       "  </tbody>\n",
       "</table>\n",
       "</div>"
      ],
      "text/plain": [
       "   label                                  preprocessed_text\n",
       "0      1  với quyết_định trên hà_nội là địa_phương đầu_t...\n",
       "1      1  sáng 254_ủy_ban thường_vụ quốc_hội cho ý_kiến ...\n",
       "2      1  theo thông_cáo chiều <number> tại kỳ họp thứ <...\n",
       "3      1  thường trực_ban bí_thư võ văn thưởng vừa ký_kế...\n",
       "4      1  theo thông_cáo của văn_phòng trung_ương đảng c..."
      ]
     },
     "execution_count": 6,
     "metadata": {},
     "output_type": "execute_result"
    }
   ],
   "source": [
    "df_web.head()"
   ]
  },
  {
   "cell_type": "code",
   "execution_count": 7,
   "id": "6c725794",
   "metadata": {},
   "outputs": [
    {
     "data": {
      "text/html": [
       "<div>\n",
       "<style scoped>\n",
       "    .dataframe tbody tr th:only-of-type {\n",
       "        vertical-align: middle;\n",
       "    }\n",
       "\n",
       "    .dataframe tbody tr th {\n",
       "        vertical-align: top;\n",
       "    }\n",
       "\n",
       "    .dataframe thead th {\n",
       "        text-align: right;\n",
       "    }\n",
       "</style>\n",
       "<table border=\"1\" class=\"dataframe\">\n",
       "  <thead>\n",
       "    <tr style=\"text-align: right;\">\n",
       "      <th></th>\n",
       "      <th>label</th>\n",
       "      <th>preprocessed_text</th>\n",
       "    </tr>\n",
       "  </thead>\n",
       "  <tbody>\n",
       "    <tr>\n",
       "      <th>0</th>\n",
       "      <td>1</td>\n",
       "      <td>&lt;number&gt; luật cấm kỳ_lạ ở triều tiên khiến cả ...</td>\n",
       "    </tr>\n",
       "    <tr>\n",
       "      <th>1</th>\n",
       "      <td>1</td>\n",
       "      <td>việt nam ơi giống vùng kín ngàn năm lưu dành s...</td>\n",
       "    </tr>\n",
       "    <tr>\n",
       "      <th>2</th>\n",
       "      <td>1</td>\n",
       "      <td>dưới cờ đỏ sao_vàng thiêng_liêng của tổ_quốc t...</td>\n",
       "    </tr>\n",
       "    <tr>\n",
       "      <th>3</th>\n",
       "      <td>1</td>\n",
       "      <td>quốc_gia nào trong khu_vực đông nam á được thể...</td>\n",
       "    </tr>\n",
       "    <tr>\n",
       "      <th>4</th>\n",
       "      <td>1</td>\n",
       "      <td>không là người_yêu cũ của ai cả bởi_vì nếu_như...</td>\n",
       "    </tr>\n",
       "  </tbody>\n",
       "</table>\n",
       "</div>"
      ],
      "text/plain": [
       "   label                                  preprocessed_text\n",
       "0      1  <number> luật cấm kỳ_lạ ở triều tiên khiến cả ...\n",
       "1      1  việt nam ơi giống vùng kín ngàn năm lưu dành s...\n",
       "2      1  dưới cờ đỏ sao_vàng thiêng_liêng của tổ_quốc t...\n",
       "3      1  quốc_gia nào trong khu_vực đông nam á được thể...\n",
       "4      1  không là người_yêu cũ của ai cả bởi_vì nếu_như..."
      ]
     },
     "execution_count": 7,
     "metadata": {},
     "output_type": "execute_result"
    }
   ],
   "source": [
    "df_tiktok.head()"
   ]
  },
  {
   "cell_type": "markdown",
   "id": "96952920-12ae-4aa8-9a10-f70f2f225036",
   "metadata": {},
   "source": [
    "### Split data train & test"
   ]
  },
  {
   "cell_type": "code",
   "execution_count": 14,
   "id": "fee3984d",
   "metadata": {},
   "outputs": [],
   "source": [
    "from sklearn.model_selection import train_test_split\n",
    "\n",
    "df_web_train, df_web_test = train_test_split(df_web, test_size=0.2, random_state=2022, stratify=df_web['label'])\n",
    "df_tiktok_train, df_tiktok_test = train_test_split(df_tiktok, test_size=0.2, random_state=2022, stratify=df_tiktok['label'])"
   ]
  },
  {
   "cell_type": "code",
   "execution_count": 15,
   "id": "b7349da2",
   "metadata": {},
   "outputs": [],
   "source": [
    "df_train = pd.concat([df_web_train, df_tiktok_train], axis=0)\n",
    "df_test = pd.concat([df_web_test, df_tiktok_test], axis=0)"
   ]
  },
  {
   "cell_type": "markdown",
   "id": "70a9d14d",
   "metadata": {},
   "source": [
    "### Prepare data for fasttext"
   ]
  },
  {
   "cell_type": "code",
   "execution_count": 16,
   "id": "0449e990",
   "metadata": {},
   "outputs": [],
   "source": [
    "df_train['fasttext_label'] = '__label__' + df_train['label'].astype(str) "
   ]
  },
  {
   "cell_type": "code",
   "execution_count": 34,
   "id": "6c5f2097",
   "metadata": {},
   "outputs": [
    {
     "data": {
      "text/html": [
       "<div>\n",
       "<style scoped>\n",
       "    .dataframe tbody tr th:only-of-type {\n",
       "        vertical-align: middle;\n",
       "    }\n",
       "\n",
       "    .dataframe tbody tr th {\n",
       "        vertical-align: top;\n",
       "    }\n",
       "\n",
       "    .dataframe thead th {\n",
       "        text-align: right;\n",
       "    }\n",
       "</style>\n",
       "<table border=\"1\" class=\"dataframe\">\n",
       "  <thead>\n",
       "    <tr style=\"text-align: right;\">\n",
       "      <th></th>\n",
       "      <th>fasttext_label</th>\n",
       "      <th>preprocessed_text</th>\n",
       "    </tr>\n",
       "  </thead>\n",
       "  <tbody>\n",
       "    <tr>\n",
       "      <th>3857</th>\n",
       "      <td>__label__0</td>\n",
       "      <td>do lượng đăng_ký dự vm quy_nhơn tăng mạnh nhữn...</td>\n",
       "    </tr>\n",
       "    <tr>\n",
       "      <th>6572</th>\n",
       "      <td>__label__0</td>\n",
       "      <td>cầu_thủ saudi arabia áo trắng trong vòng_vây c...</td>\n",
       "    </tr>\n",
       "    <tr>\n",
       "      <th>11904</th>\n",
       "      <td>__label__0</td>\n",
       "      <td>mức lợi_nhuận hợp_nhất nửa đầu năm mà ngân_hàn...</td>\n",
       "    </tr>\n",
       "    <tr>\n",
       "      <th>5113</th>\n",
       "      <td>__label__1</td>\n",
       "      <td>với &lt;number&gt; lượt ý_kiến thảo_luận tại tổ và h...</td>\n",
       "    </tr>\n",
       "    <tr>\n",
       "      <th>12600</th>\n",
       "      <td>__label__0</td>\n",
       "      <td>thủ_tướng phạm minh chính tiếp đoàn doanh_nghi...</td>\n",
       "    </tr>\n",
       "  </tbody>\n",
       "</table>\n",
       "</div>"
      ],
      "text/plain": [
       "      fasttext_label                                  preprocessed_text\n",
       "3857      __label__0  do lượng đăng_ký dự vm quy_nhơn tăng mạnh nhữn...\n",
       "6572      __label__0  cầu_thủ saudi arabia áo trắng trong vòng_vây c...\n",
       "11904     __label__0  mức lợi_nhuận hợp_nhất nửa đầu năm mà ngân_hàn...\n",
       "5113      __label__1  với <number> lượt ý_kiến thảo_luận tại tổ và h...\n",
       "12600     __label__0  thủ_tướng phạm minh chính tiếp đoàn doanh_nghi..."
      ]
     },
     "execution_count": 34,
     "metadata": {},
     "output_type": "execute_result"
    }
   ],
   "source": [
    "df_train[['fasttext_label', 'preprocessed_text']].head()"
   ]
  },
  {
   "cell_type": "code",
   "execution_count": 31,
   "id": "6a5d44ac",
   "metadata": {},
   "outputs": [],
   "source": [
    "df_train[['fasttext_label', 'preprocessed_text']].to_csv('train.txt', header=None, index=None, sep='#')"
   ]
  },
  {
   "cell_type": "markdown",
   "id": "144ede07",
   "metadata": {},
   "source": [
    "# Featurize (tf-idf)"
   ]
  },
  {
   "cell_type": "code",
   "execution_count": 17,
   "id": "ec38b582",
   "metadata": {},
   "outputs": [],
   "source": [
    "from sklearn.feature_extraction.text import TfidfVectorizer\n",
    "# https://scikit-learn.org/0.24/modules/generated/sklearn.feature_extraction.text.TfidfVectorizer.html?highlight=tfidf#sklearn.feature_extraction.text.TfidfVectorizer"
   ]
  },
  {
   "cell_type": "code",
   "execution_count": 18,
   "id": "c61507fa",
   "metadata": {},
   "outputs": [],
   "source": [
    "corpus = pd.concat([df_web['preprocessed_text'], df_tiktok['preprocessed_text']])"
   ]
  },
  {
   "cell_type": "code",
   "execution_count": 34,
   "id": "4c9e9af7",
   "metadata": {},
   "outputs": [
    {
     "data": {
      "text/plain": [
       "TfidfVectorizer()"
      ]
     },
     "execution_count": 34,
     "metadata": {},
     "output_type": "execute_result"
    }
   ],
   "source": [
    "vectorizer = TfidfVectorizer()\n",
    "vectorizer.fit(corpus)"
   ]
  },
  {
   "cell_type": "code",
   "execution_count": 141,
   "id": "7d1db3a3",
   "metadata": {},
   "outputs": [],
   "source": [
    "# write_pickle(vectorizer, 'model_text/tfidfVectorizer')"
   ]
  },
  {
   "cell_type": "markdown",
   "id": "1f2bed5b",
   "metadata": {},
   "source": [
    "# Model"
   ]
  },
  {
   "cell_type": "markdown",
   "id": "5bd828d4-d5d7-4eaa-b58e-73bc155a8ec2",
   "metadata": {},
   "source": [
    "## Load TF-IDF"
   ]
  },
  {
   "cell_type": "code",
   "execution_count": 19,
   "id": "3b78118d",
   "metadata": {},
   "outputs": [],
   "source": [
    "vectorizer = read_pickle('model_text/tfidfVectorizer')"
   ]
  },
  {
   "cell_type": "code",
   "execution_count": 20,
   "id": "02c07597",
   "metadata": {},
   "outputs": [],
   "source": [
    "x_train = vectorizer.transform(df_train['preprocessed_text'])\n",
    "y_train = df_train['label']\n",
    "\n",
    "x_test = vectorizer.transform(df_test['preprocessed_text'])\n",
    "y_test = df_test['label']"
   ]
  },
  {
   "cell_type": "markdown",
   "id": "201f4ff3",
   "metadata": {},
   "source": [
    "## Random forest"
   ]
  },
  {
   "cell_type": "code",
   "execution_count": null,
   "id": "22964786",
   "metadata": {},
   "outputs": [],
   "source": [
    "from sklearn.ensemble import RandomForestClassifier"
   ]
  },
  {
   "cell_type": "code",
   "execution_count": null,
   "id": "02080c37",
   "metadata": {},
   "outputs": [],
   "source": [
    "clf = RandomForestClassifier(random_state=2022)\n",
    "clf.fit(x_train, y_train)"
   ]
  },
  {
   "cell_type": "code",
   "execution_count": 147,
   "id": "14c5a20a",
   "metadata": {},
   "outputs": [],
   "source": [
    "write_pickle(clf, 'model_text/rf_clf')"
   ]
  },
  {
   "cell_type": "markdown",
   "id": "6ccf8e9d",
   "metadata": {},
   "source": [
    "## Logistic Regression"
   ]
  },
  {
   "cell_type": "code",
   "execution_count": 151,
   "id": "0e81dc13",
   "metadata": {},
   "outputs": [],
   "source": [
    "from sklearn.linear_model import LogisticRegression"
   ]
  },
  {
   "cell_type": "code",
   "execution_count": 152,
   "id": "d25d09e3",
   "metadata": {},
   "outputs": [
    {
     "data": {
      "text/plain": [
       "LogisticRegression(random_state=0)"
      ]
     },
     "execution_count": 152,
     "metadata": {},
     "output_type": "execute_result"
    }
   ],
   "source": [
    "clf = LogisticRegression(random_state=0)\n",
    "clf.fit(x_train, y_train)"
   ]
  },
  {
   "cell_type": "code",
   "execution_count": 153,
   "id": "8a0442bc",
   "metadata": {},
   "outputs": [],
   "source": [
    "write_pickle(clf, 'model_text/lr_clf')"
   ]
  },
  {
   "cell_type": "markdown",
   "id": "ad323e37",
   "metadata": {},
   "source": [
    "## Naive Bayes"
   ]
  },
  {
   "cell_type": "code",
   "execution_count": 66,
   "id": "e5c01b14",
   "metadata": {},
   "outputs": [],
   "source": [
    "from sklearn.naive_bayes import MultinomialNB"
   ]
  },
  {
   "cell_type": "code",
   "execution_count": 67,
   "id": "0a3953c4",
   "metadata": {},
   "outputs": [
    {
     "data": {
      "text/plain": [
       "MultinomialNB()"
      ]
     },
     "execution_count": 67,
     "metadata": {},
     "output_type": "execute_result"
    }
   ],
   "source": [
    "clf = MultinomialNB()\n",
    "clf.fit(x_train, y_train)"
   ]
  },
  {
   "cell_type": "code",
   "execution_count": 68,
   "id": "fcd7fc85",
   "metadata": {},
   "outputs": [],
   "source": [
    "write_pickle(clf, 'model_text/nb_clf')"
   ]
  },
  {
   "cell_type": "markdown",
   "id": "cfab4cad",
   "metadata": {},
   "source": [
    "## SVM"
   ]
  },
  {
   "cell_type": "code",
   "execution_count": 69,
   "id": "645965ab",
   "metadata": {},
   "outputs": [],
   "source": [
    "from sklearn.svm import SVC"
   ]
  },
  {
   "cell_type": "code",
   "execution_count": 70,
   "id": "02842330",
   "metadata": {},
   "outputs": [
    {
     "data": {
      "text/plain": [
       "SVC()"
      ]
     },
     "execution_count": 70,
     "metadata": {},
     "output_type": "execute_result"
    }
   ],
   "source": [
    "clf = SVC(gamma='scale')\n",
    "clf.fit(x_train, y_train)"
   ]
  },
  {
   "cell_type": "code",
   "execution_count": 72,
   "id": "6ebc0703",
   "metadata": {},
   "outputs": [],
   "source": [
    "write_pickle(clf, 'model_text/svm_clf')"
   ]
  },
  {
   "cell_type": "markdown",
   "id": "57cf7b6f",
   "metadata": {},
   "source": [
    "## Fasttext"
   ]
  },
  {
   "cell_type": "code",
   "execution_count": 35,
   "id": "e9f558e1",
   "metadata": {},
   "outputs": [],
   "source": [
    "import fasttext"
   ]
  },
  {
   "cell_type": "code",
   "execution_count": 36,
   "id": "932b86f1",
   "metadata": {},
   "outputs": [
    {
     "name": "stderr",
     "output_type": "stream",
     "text": [
      "Read 6M words\n",
      "Number of words:  23884\n",
      "Number of labels: 2\n",
      "Progress: 100.0% words/sec/thread: 4243698 lr:  0.000000 avg.loss:  0.176556 ETA:   0h 0m 0s\n"
     ]
    }
   ],
   "source": [
    "clf = fasttext.train_supervised(\n",
    "                                input='train.txt',\n",
    "                                dim=100,\n",
    "                                epoch=5,\n",
    "                                lr=0.1,\n",
    "                                wordNgrams=1,\n",
    "                                label='__label__',\n",
    "                                minCount=5)"
   ]
  },
  {
   "cell_type": "code",
   "execution_count": 37,
   "id": "4a09ffb7",
   "metadata": {},
   "outputs": [],
   "source": [
    "clf.quantize(input='train.txt', retrain=True)\n",
    "clf.save_model(\"model_text/fasttext.ftz\")"
   ]
  },
  {
   "cell_type": "markdown",
   "id": "e8746a91",
   "metadata": {},
   "source": [
    "## Evaluation"
   ]
  },
  {
   "cell_type": "code",
   "execution_count": 21,
   "id": "d688ded6",
   "metadata": {},
   "outputs": [],
   "source": [
    "from sklearn.metrics import accuracy_score, confusion_matrix, f1_score\n",
    "from utils import calculate_accuracy, calculate_f1_score"
   ]
  },
  {
   "cell_type": "markdown",
   "id": "6cc1cf11",
   "metadata": {
    "tags": []
   },
   "source": [
    "### machine learning model"
   ]
  },
  {
   "cell_type": "markdown",
   "id": "f972758a-02d3-4a17-a37b-45185ffe911a",
   "metadata": {
    "tags": []
   },
   "source": [
    "#### Random forest model"
   ]
  },
  {
   "cell_type": "code",
   "execution_count": 14,
   "id": "d31b0d06-a963-45f7-835c-1659415517f6",
   "metadata": {},
   "outputs": [],
   "source": [
    "rf_clf = read_pickle('model_text/rf_clf') \n",
    "y_pred_rf = rf_clf.predict(x_test)"
   ]
  },
  {
   "cell_type": "code",
   "execution_count": 15,
   "id": "7416f7a7-6177-45d8-b414-93a62f67b138",
   "metadata": {},
   "outputs": [
    {
     "data": {
      "text/plain": [
       "0.962598833441348"
      ]
     },
     "execution_count": 15,
     "metadata": {},
     "output_type": "execute_result"
    }
   ],
   "source": [
    "calculate_accuracy(y_test, y_pred_rf)"
   ]
  },
  {
   "cell_type": "code",
   "execution_count": 16,
   "id": "e1d1b1e5-4c12-4154-bc76-669599310fe0",
   "metadata": {},
   "outputs": [
    {
     "data": {
      "text/plain": [
       "0.9597771775827144"
      ]
     },
     "execution_count": 16,
     "metadata": {},
     "output_type": "execute_result"
    }
   ],
   "source": [
    "calculate_f1_score(y_test, y_pred_rf)"
   ]
  },
  {
   "cell_type": "markdown",
   "id": "b0029fb8-f130-46e9-913f-40040f2afca4",
   "metadata": {
    "tags": []
   },
   "source": [
    "#### Logistic regression"
   ]
  },
  {
   "cell_type": "code",
   "execution_count": 17,
   "id": "32687dca-e157-4379-b69e-55f00f66a542",
   "metadata": {},
   "outputs": [],
   "source": [
    "lr_clf = read_pickle('model_text/lr_clf')\n",
    "y_pred_lr = lr_clf.predict(x_test)"
   ]
  },
  {
   "cell_type": "code",
   "execution_count": 18,
   "id": "34c1371e-e6bf-4fda-9064-6e3987b955d3",
   "metadata": {},
   "outputs": [
    {
     "data": {
      "text/plain": [
       "0.9807453013609851"
      ]
     },
     "execution_count": 18,
     "metadata": {},
     "output_type": "execute_result"
    }
   ],
   "source": [
    "calculate_accuracy(y_test, y_pred_lr)"
   ]
  },
  {
   "cell_type": "code",
   "execution_count": 19,
   "id": "3fb49388-553b-47d9-82bb-3c39e5f3a27a",
   "metadata": {},
   "outputs": [
    {
     "data": {
      "text/plain": [
       "0.978122866894198"
      ]
     },
     "execution_count": 19,
     "metadata": {},
     "output_type": "execute_result"
    }
   ],
   "source": [
    "calculate_f1_score(y_test, y_pred_lr)"
   ]
  },
  {
   "cell_type": "markdown",
   "id": "87ef0bc7-9134-41a8-a0ba-a06a30e20d1f",
   "metadata": {
    "tags": []
   },
   "source": [
    "#### Naive bayes"
   ]
  },
  {
   "cell_type": "code",
   "execution_count": 20,
   "id": "983d065c-fae0-45e6-8aa3-98c54403f807",
   "metadata": {},
   "outputs": [],
   "source": [
    "nb_clf = read_pickle('model_text/nb_clf')\n",
    "y_pred_nb = nb_clf.predict(x_test)"
   ]
  },
  {
   "cell_type": "code",
   "execution_count": 21,
   "id": "877593de-45cb-4df7-8ab2-5cc38a346433",
   "metadata": {},
   "outputs": [
    {
     "data": {
      "text/plain": [
       "0.9519053791315619"
      ]
     },
     "execution_count": 21,
     "metadata": {},
     "output_type": "execute_result"
    }
   ],
   "source": [
    "calculate_accuracy(y_test, y_pred_nb)"
   ]
  },
  {
   "cell_type": "code",
   "execution_count": 22,
   "id": "41025dcb-0589-46ca-9726-cf2722396c52",
   "metadata": {},
   "outputs": [
    {
     "data": {
      "text/plain": [
       "0.9499601461308536"
      ]
     },
     "execution_count": 22,
     "metadata": {},
     "output_type": "execute_result"
    }
   ],
   "source": [
    "calculate_f1_score(y_test, y_pred_nb)"
   ]
  },
  {
   "cell_type": "markdown",
   "id": "dac6ea58-6f80-4749-98b7-2b2c26a5c0ba",
   "metadata": {
    "tags": []
   },
   "source": [
    "#### SVM"
   ]
  },
  {
   "cell_type": "code",
   "execution_count": 23,
   "id": "41ad2784-aab3-4760-815f-3fd1270ef3a1",
   "metadata": {},
   "outputs": [],
   "source": [
    "svm_clf = read_pickle('model_text/svm_clf')\n",
    "y_pred_svm = svm_clf.predict(x_test)"
   ]
  },
  {
   "cell_type": "code",
   "execution_count": 24,
   "id": "731bb01a-46e6-4244-8547-6a71a4e7a806",
   "metadata": {},
   "outputs": [
    {
     "data": {
      "text/plain": [
       "0.9862540505508749"
      ]
     },
     "execution_count": 24,
     "metadata": {},
     "output_type": "execute_result"
    }
   ],
   "source": [
    "calculate_accuracy(y_test, y_pred_svm)"
   ]
  },
  {
   "cell_type": "code",
   "execution_count": 25,
   "id": "e2a7b2e4-0922-4d27-8f11-35e7fbb1ddd6",
   "metadata": {},
   "outputs": [
    {
     "data": {
      "text/plain": [
       "0.9840972458347501"
      ]
     },
     "execution_count": 25,
     "metadata": {},
     "output_type": "execute_result"
    }
   ],
   "source": [
    "calculate_f1_score(y_test, y_pred_svm)"
   ]
  },
  {
   "cell_type": "markdown",
   "id": "b5645c32",
   "metadata": {},
   "source": [
    "### fasttext"
   ]
  },
  {
   "cell_type": "code",
   "execution_count": 38,
   "id": "8bba299f",
   "metadata": {},
   "outputs": [
    {
     "name": "stderr",
     "output_type": "stream",
     "text": [
      "Warning : `load_model` does not return WordVectorModel or SupervisedModel any more, but a `FastText` object which is very similar.\n"
     ]
    }
   ],
   "source": [
    "clf = fasttext.load_model(\"model_text/fasttext.ftz\")"
   ]
  },
  {
   "cell_type": "code",
   "execution_count": 39,
   "id": "8f6c3f79",
   "metadata": {},
   "outputs": [],
   "source": [
    "def predict_fasttext(text):\n",
    "    prediction = clf.predict(text)\n",
    "    return int(prediction[0][0][-1])"
   ]
  },
  {
   "cell_type": "code",
   "execution_count": 40,
   "id": "5376090e",
   "metadata": {},
   "outputs": [],
   "source": [
    "y_pred = df_test['preprocessed_text'].apply(predict_fasttext)"
   ]
  },
  {
   "cell_type": "code",
   "execution_count": 41,
   "id": "6c36f0b6",
   "metadata": {},
   "outputs": [
    {
     "ename": "KeyError",
     "evalue": "'prediction'",
     "output_type": "error",
     "traceback": [
      "\u001B[0;31m---------------------------------------------------------------------------\u001B[0m",
      "\u001B[0;31mKeyError\u001B[0m                                  Traceback (most recent call last)",
      "File \u001B[0;32m~/Desktop/CODE/Face_reg_Text_clf/venv/lib/python3.8/site-packages/pandas/core/indexes/base.py:3621\u001B[0m, in \u001B[0;36mIndex.get_loc\u001B[0;34m(self, key, method, tolerance)\u001B[0m\n\u001B[1;32m   3620\u001B[0m \u001B[38;5;28;01mtry\u001B[39;00m:\n\u001B[0;32m-> 3621\u001B[0m     \u001B[38;5;28;01mreturn\u001B[39;00m \u001B[38;5;28;43mself\u001B[39;49m\u001B[38;5;241;43m.\u001B[39;49m\u001B[43m_engine\u001B[49m\u001B[38;5;241;43m.\u001B[39;49m\u001B[43mget_loc\u001B[49m\u001B[43m(\u001B[49m\u001B[43mcasted_key\u001B[49m\u001B[43m)\u001B[49m\n\u001B[1;32m   3622\u001B[0m \u001B[38;5;28;01mexcept\u001B[39;00m \u001B[38;5;167;01mKeyError\u001B[39;00m \u001B[38;5;28;01mas\u001B[39;00m err:\n",
      "File \u001B[0;32mpandas/_libs/index.pyx:136\u001B[0m, in \u001B[0;36mpandas._libs.index.IndexEngine.get_loc\u001B[0;34m()\u001B[0m\n",
      "File \u001B[0;32mpandas/_libs/index.pyx:163\u001B[0m, in \u001B[0;36mpandas._libs.index.IndexEngine.get_loc\u001B[0;34m()\u001B[0m\n",
      "File \u001B[0;32mpandas/_libs/hashtable_class_helper.pxi:5198\u001B[0m, in \u001B[0;36mpandas._libs.hashtable.PyObjectHashTable.get_item\u001B[0;34m()\u001B[0m\n",
      "File \u001B[0;32mpandas/_libs/hashtable_class_helper.pxi:5206\u001B[0m, in \u001B[0;36mpandas._libs.hashtable.PyObjectHashTable.get_item\u001B[0;34m()\u001B[0m\n",
      "\u001B[0;31mKeyError\u001B[0m: 'prediction'",
      "\nThe above exception was the direct cause of the following exception:\n",
      "\u001B[0;31mKeyError\u001B[0m                                  Traceback (most recent call last)",
      "Input \u001B[0;32mIn [41]\u001B[0m, in \u001B[0;36m<cell line: 1>\u001B[0;34m()\u001B[0m\n\u001B[0;32m----> 1\u001B[0m calculate_accuracy(\u001B[43mdf_test\u001B[49m\u001B[43m[\u001B[49m\u001B[38;5;124;43m'\u001B[39;49m\u001B[38;5;124;43mprediction\u001B[39;49m\u001B[38;5;124;43m'\u001B[39;49m\u001B[43m]\u001B[49m, df_test[\u001B[38;5;124m'\u001B[39m\u001B[38;5;124mlabel\u001B[39m\u001B[38;5;124m'\u001B[39m])\n",
      "File \u001B[0;32m~/Desktop/CODE/Face_reg_Text_clf/venv/lib/python3.8/site-packages/pandas/core/frame.py:3505\u001B[0m, in \u001B[0;36mDataFrame.__getitem__\u001B[0;34m(self, key)\u001B[0m\n\u001B[1;32m   3503\u001B[0m \u001B[38;5;28;01mif\u001B[39;00m \u001B[38;5;28mself\u001B[39m\u001B[38;5;241m.\u001B[39mcolumns\u001B[38;5;241m.\u001B[39mnlevels \u001B[38;5;241m>\u001B[39m \u001B[38;5;241m1\u001B[39m:\n\u001B[1;32m   3504\u001B[0m     \u001B[38;5;28;01mreturn\u001B[39;00m \u001B[38;5;28mself\u001B[39m\u001B[38;5;241m.\u001B[39m_getitem_multilevel(key)\n\u001B[0;32m-> 3505\u001B[0m indexer \u001B[38;5;241m=\u001B[39m \u001B[38;5;28;43mself\u001B[39;49m\u001B[38;5;241;43m.\u001B[39;49m\u001B[43mcolumns\u001B[49m\u001B[38;5;241;43m.\u001B[39;49m\u001B[43mget_loc\u001B[49m\u001B[43m(\u001B[49m\u001B[43mkey\u001B[49m\u001B[43m)\u001B[49m\n\u001B[1;32m   3506\u001B[0m \u001B[38;5;28;01mif\u001B[39;00m is_integer(indexer):\n\u001B[1;32m   3507\u001B[0m     indexer \u001B[38;5;241m=\u001B[39m [indexer]\n",
      "File \u001B[0;32m~/Desktop/CODE/Face_reg_Text_clf/venv/lib/python3.8/site-packages/pandas/core/indexes/base.py:3623\u001B[0m, in \u001B[0;36mIndex.get_loc\u001B[0;34m(self, key, method, tolerance)\u001B[0m\n\u001B[1;32m   3621\u001B[0m     \u001B[38;5;28;01mreturn\u001B[39;00m \u001B[38;5;28mself\u001B[39m\u001B[38;5;241m.\u001B[39m_engine\u001B[38;5;241m.\u001B[39mget_loc(casted_key)\n\u001B[1;32m   3622\u001B[0m \u001B[38;5;28;01mexcept\u001B[39;00m \u001B[38;5;167;01mKeyError\u001B[39;00m \u001B[38;5;28;01mas\u001B[39;00m err:\n\u001B[0;32m-> 3623\u001B[0m     \u001B[38;5;28;01mraise\u001B[39;00m \u001B[38;5;167;01mKeyError\u001B[39;00m(key) \u001B[38;5;28;01mfrom\u001B[39;00m \u001B[38;5;21;01merr\u001B[39;00m\n\u001B[1;32m   3624\u001B[0m \u001B[38;5;28;01mexcept\u001B[39;00m \u001B[38;5;167;01mTypeError\u001B[39;00m:\n\u001B[1;32m   3625\u001B[0m     \u001B[38;5;66;03m# If we have a listlike key, _check_indexing_error will raise\u001B[39;00m\n\u001B[1;32m   3626\u001B[0m     \u001B[38;5;66;03m#  InvalidIndexError. Otherwise we fall through and re-raise\u001B[39;00m\n\u001B[1;32m   3627\u001B[0m     \u001B[38;5;66;03m#  the TypeError.\u001B[39;00m\n\u001B[1;32m   3628\u001B[0m     \u001B[38;5;28mself\u001B[39m\u001B[38;5;241m.\u001B[39m_check_indexing_error(key)\n",
      "\u001B[0;31mKeyError\u001B[0m: 'prediction'"
     ]
    }
   ],
   "source": [
    "calculate_accuracy(df_test['prediction'], df_test['label'])"
   ]
  },
  {
   "cell_type": "code",
   "execution_count": 122,
   "id": "44c31058",
   "metadata": {},
   "outputs": [
    {
     "data": {
      "text/plain": [
       "0.9475806451612904"
      ]
     },
     "execution_count": 122,
     "metadata": {},
     "output_type": "execute_result"
    }
   ],
   "source": [
    "f1_score(df_test['prediction'], df_test['label'])"
   ]
  },
  {
   "cell_type": "code",
   "execution_count": 3,
   "id": "586188df",
   "metadata": {},
   "outputs": [],
   "source": [
    "# tn, fp, fn, tp = confusion_matrix(y_test, y_pred).ravel()\n",
    "# confusion_matrix(df_test['prediction'], df_test['label']).ravel()"
   ]
  },
  {
   "cell_type": "markdown",
   "id": "cf20785b",
   "metadata": {},
   "source": [
    "# Prediction"
   ]
  },
  {
   "cell_type": "markdown",
   "id": "82bd21e4",
   "metadata": {},
   "source": [
    "### Random Forest, Logistic Regression, SVM, NB"
   ]
  },
  {
   "cell_type": "code",
   "execution_count": 22,
   "id": "ec95300a",
   "metadata": {},
   "outputs": [],
   "source": [
    "vectorizer = read_pickle('model_text/tfidfVectorizer') # load vectorizer\n",
    "# clf = read_pickle('model_text/rf_clf') \n",
    "# clf = read_pickle('model_text/lr_clf')\n",
    "# clf = read_pickle('model_text/nb_clf')\n",
    "clf = read_pickle('model_text/svm_clf')"
   ]
  },
  {
   "cell_type": "code",
   "execution_count": 31,
   "id": "0106f087",
   "metadata": {},
   "outputs": [],
   "source": [
    "# raw_text = 'Không bao giờ chia sẻ về thu nhập của mình Đức Bảo sẽ là một trong 3 người dẫn các chương trình'\n",
    "raw_text = 'Thủ tướng Nguyễn Bình Long vừa ký quyết định số 547'\n",
    "preprocessed_text = preprocess_text(raw_text)\n",
    "vector_tf_idf = vectorizer.transform([preprocessed_text])"
   ]
  },
  {
   "cell_type": "code",
   "execution_count": 32,
   "id": "7bec730f",
   "metadata": {},
   "outputs": [
    {
     "data": {
      "text/plain": [
       "array([1])"
      ]
     },
     "execution_count": 32,
     "metadata": {},
     "output_type": "execute_result"
    }
   ],
   "source": [
    "clf.predict(vector_tf_idf)"
   ]
  },
  {
   "cell_type": "markdown",
   "id": "8e8f1ede",
   "metadata": {},
   "source": [
    "### Fasttext"
   ]
  },
  {
   "cell_type": "code",
   "execution_count": 6,
   "id": "ecd629ea",
   "metadata": {},
   "outputs": [
    {
     "name": "stderr",
     "output_type": "stream",
     "text": [
      "Warning : `load_model` does not return WordVectorModel or SupervisedModel any more, but a `FastText` object which is very similar.\n"
     ]
    }
   ],
   "source": [
    "clf = fasttext.load_model(\"model_text/fasttext.ftz\")"
   ]
  },
  {
   "cell_type": "code",
   "execution_count": 6,
   "id": "bbcc3f2d",
   "metadata": {},
   "outputs": [
    {
     "ename": "NameError",
     "evalue": "name 'clf' is not defined",
     "output_type": "error",
     "traceback": [
      "\u001B[0;31m---------------------------------------------------------------------------\u001B[0m",
      "\u001B[0;31mNameError\u001B[0m                                 Traceback (most recent call last)",
      "Input \u001B[0;32mIn [6]\u001B[0m, in \u001B[0;36m<cell line: 4>\u001B[0;34m()\u001B[0m\n\u001B[1;32m      2\u001B[0m raw_text \u001B[38;5;241m=\u001B[39m \u001B[38;5;124m'\u001B[39m\u001B[38;5;124mPhó Thủ tướng Lê Minh khái vừa ký quyết định số 547 do Bộ Tài chính thức cấp không thu tiền 139608 tấn gạo từ nguồn dự trữ quốc gia cho 2 tỉnh Tuyên Quang Quảng Trị để hỗ trợ nhân dân trong thời gian rất hạn đầu năm 2022 theo quyết định tỉnh Tuyên quanh được sức cấp 3108 tấn gạo tỉnh Quảng Trị 108528 tấn gạo Phó Thủ tướng yêu cầu Bộ Tài chính Bộ Lao động Thương binh và xã hội xử lý cụ thể theo quy định chịu trách nhiệm về thông tin và số liệu báo cáo Ủy ban Nhân dân hai tỉnh Tuyên quanh Quảng Trị chịu trách nhiệm về tính chính xác của số liệu báo cáo và thực hiện hỗ trợ kịp thời đúng đối tượng định mức theo quy định\u001B[39m\u001B[38;5;124m'\u001B[39m\n\u001B[1;32m      3\u001B[0m preprocessed_text \u001B[38;5;241m=\u001B[39m preprocess_text(raw_text)\n\u001B[0;32m----> 4\u001B[0m \u001B[43mclf\u001B[49m\u001B[38;5;241m.\u001B[39mpredict(preprocessed_text)\n",
      "\u001B[0;31mNameError\u001B[0m: name 'clf' is not defined"
     ]
    }
   ],
   "source": [
    "# raw_text = 'Không bao giờ chia sẻ về thu nhập của mình Đức Bảo sẽ là một trong 3 người dẫn các chương trình'\n",
    "raw_text = 'Phó Thủ tướng Lê Minh khái vừa ký quyết định số 547 do Bộ Tài chính thức cấp không thu tiền 139608 tấn gạo từ nguồn dự trữ quốc gia cho 2 tỉnh Tuyên Quang Quảng Trị để hỗ trợ nhân dân trong thời gian rất hạn đầu năm 2022 theo quyết định tỉnh Tuyên quanh được sức cấp 3108 tấn gạo tỉnh Quảng Trị 108528 tấn gạo Phó Thủ tướng yêu cầu Bộ Tài chính Bộ Lao động Thương binh và xã hội xử lý cụ thể theo quy định chịu trách nhiệm về thông tin và số liệu báo cáo Ủy ban Nhân dân hai tỉnh Tuyên quanh Quảng Trị chịu trách nhiệm về tính chính xác của số liệu báo cáo và thực hiện hỗ trợ kịp thời đúng đối tượng định mức theo quy định'\n",
    "preprocessed_text = preprocess_text(raw_text)\n",
    "clf.predict(preprocessed_text)"
   ]
  }
 ],
 "metadata": {
  "kernelspec": {
   "display_name": "Python 3 (ipykernel)",
   "language": "python",
   "name": "python3"
  },
  "language_info": {
   "codemirror_mode": {
    "name": "ipython",
    "version": 3
   },
   "file_extension": ".py",
   "mimetype": "text/x-python",
   "name": "python",
   "nbconvert_exporter": "python",
   "pygments_lexer": "ipython3",
   "version": "3.9.12"
  }
 },
 "nbformat": 4,
 "nbformat_minor": 5
}